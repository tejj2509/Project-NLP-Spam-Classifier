{
 "cells": [
  {
   "cell_type": "markdown",
   "id": "d9e5f40a",
   "metadata": {},
   "source": [
    "# Spam Classifier NLP Project\n",
    "\n",
    "An NLP(TF-IDF)-based spam classifier using machine learning."
   ]
  },
  {
   "cell_type": "markdown",
   "id": "8ae921c3",
   "metadata": {},
   "source": [
    "NLP, or Natural Language Processing, is a field of artificial intelligence (AI) that focuses on the interaction between computers and human language. It involves the development of algorithms and models that enable machines to understand, interpret, and generate human language in a way that is both meaningful and useful.\n",
    "\n",
    "Key aspects of NLP include:\n",
    "\n",
    "1. Language Understanding: NLP aims to enable computers to comprehend the structure and meaning of human language, including text and speech. This involves tasks such as text classification, sentiment analysis, named entity recognition, and more.\n",
    "\n",
    "2. Language Generation: NLP also encompasses tasks that involve generating human-like language. This includes chatbots, machine translation, text summarization, and content generation.\n",
    "\n",
    "3. Language Processing: NLP technologies process and manipulate language data. This includes tasks like parsing, tokenization, and language modeling.\n",
    "\n",
    "4. Speech Recognition and Synthesis: NLP extends to spoken language, where it involves converting spoken words into text (speech recognition) and generating spoken words from text (speech synthesis).\n",
    "\n",
    "NLP has a wide range of applications, including:\n",
    "\n",
    "- Virtual Assistants: Virtual assistants like Siri and Alexa use NLP to understand and respond to voice commands.\n",
    "- Machine Translation: Services like Google Translate use NLP to translate text from one language to another.\n",
    "- Sentiment Analysis: Companies use NLP to analyze customer reviews and social media sentiment to gauge public opinion.\n",
    "- Text Summarization: NLP is used to automatically generate concise summaries of longer texts.\n",
    "- Information Retrieval: Search engines employ NLP to understand search queries and deliver relevant results.\n",
    "- Healthcare: NLP can help process medical records and extract valuable information for clinical decision support.\n",
    "\n",
    "NLP technology relies heavily on machine learning and deep learning techniques, and it continues to advance rapidly, enabling more sophisticated interactions between humans and machines, as well as revolutionizing various industries through its practical applications."
   ]
  },
  {
   "cell_type": "code",
   "execution_count": 1,
   "id": "9fe74a47-1733-4981-9485-7243e3830aaf",
   "metadata": {},
   "outputs": [],
   "source": [
    "import os, sys\n",
    "import numpy as np\n",
    "import pandas as pd\n",
    "import matplotlib.pyplot as plt\n",
    "import seaborn as sns\n",
    "import statsmodels.api as sm\n",
    "import scipy.stats as stats\n",
    "import warnings\n",
    "warnings.filterwarnings('ignore')\n",
    "%matplotlib inline\n",
    "sns.set()\n",
    "pd.set_option('display.max_rows',None)\n",
    "pd.set_option('display.max_columns',None)\n",
    "sns.set_style('whitegrid')"
   ]
  },
  {
   "cell_type": "code",
   "execution_count": 2,
   "id": "e6a35256-9459-4b42-a11b-a3804ba1644d",
   "metadata": {},
   "outputs": [
    {
     "data": {
      "text/html": [
       "<div>\n",
       "<style scoped>\n",
       "    .dataframe tbody tr th:only-of-type {\n",
       "        vertical-align: middle;\n",
       "    }\n",
       "\n",
       "    .dataframe tbody tr th {\n",
       "        vertical-align: top;\n",
       "    }\n",
       "\n",
       "    .dataframe thead th {\n",
       "        text-align: right;\n",
       "    }\n",
       "</style>\n",
       "<table border=\"1\" class=\"dataframe\">\n",
       "  <thead>\n",
       "    <tr style=\"text-align: right;\">\n",
       "      <th></th>\n",
       "      <th>label</th>\n",
       "      <th>message</th>\n",
       "      <th>length</th>\n",
       "      <th>punct</th>\n",
       "    </tr>\n",
       "  </thead>\n",
       "  <tbody>\n",
       "    <tr>\n",
       "      <th>0</th>\n",
       "      <td>ham</td>\n",
       "      <td>Go until jurong point, crazy.. Available only ...</td>\n",
       "      <td>111</td>\n",
       "      <td>9</td>\n",
       "    </tr>\n",
       "    <tr>\n",
       "      <th>1</th>\n",
       "      <td>ham</td>\n",
       "      <td>Ok lar... Joking wif u oni...</td>\n",
       "      <td>29</td>\n",
       "      <td>6</td>\n",
       "    </tr>\n",
       "    <tr>\n",
       "      <th>2</th>\n",
       "      <td>spam</td>\n",
       "      <td>Free entry in 2 a wkly comp to win FA Cup fina...</td>\n",
       "      <td>155</td>\n",
       "      <td>6</td>\n",
       "    </tr>\n",
       "    <tr>\n",
       "      <th>3</th>\n",
       "      <td>ham</td>\n",
       "      <td>U dun say so early hor... U c already then say...</td>\n",
       "      <td>49</td>\n",
       "      <td>6</td>\n",
       "    </tr>\n",
       "    <tr>\n",
       "      <th>4</th>\n",
       "      <td>ham</td>\n",
       "      <td>Nah I don't think he goes to usf, he lives aro...</td>\n",
       "      <td>61</td>\n",
       "      <td>2</td>\n",
       "    </tr>\n",
       "  </tbody>\n",
       "</table>\n",
       "</div>"
      ],
      "text/plain": [
       "  label                                            message  length  punct\n",
       "0   ham  Go until jurong point, crazy.. Available only ...     111      9\n",
       "1   ham                      Ok lar... Joking wif u oni...      29      6\n",
       "2  spam  Free entry in 2 a wkly comp to win FA Cup fina...     155      6\n",
       "3   ham  U dun say so early hor... U c already then say...      49      6\n",
       "4   ham  Nah I don't think he goes to usf, he lives aro...      61      2"
      ]
     },
     "execution_count": 2,
     "metadata": {},
     "output_type": "execute_result"
    }
   ],
   "source": [
    "df = pd.read_csv('spam.tsv', sep = '\\t')\n",
    "df.head()"
   ]
  },
  {
   "cell_type": "code",
   "execution_count": 3,
   "id": "2a2d7555-badb-462b-ab28-881b2bf81cae",
   "metadata": {},
   "outputs": [
    {
     "data": {
      "text/plain": [
       "label      0\n",
       "message    0\n",
       "length     0\n",
       "punct      0\n",
       "dtype: int64"
      ]
     },
     "execution_count": 3,
     "metadata": {},
     "output_type": "execute_result"
    }
   ],
   "source": [
    "# Checking if the data has any missing data:\n",
    "\n",
    "df.isnull().sum()"
   ]
  },
  {
   "cell_type": "code",
   "execution_count": 4,
   "id": "f8ffda05-e2b7-4490-9943-2c6018dd06a0",
   "metadata": {},
   "outputs": [
    {
     "name": "stdout",
     "output_type": "stream",
     "text": [
      "<class 'pandas.core.frame.DataFrame'>\n",
      "RangeIndex: 5572 entries, 0 to 5571\n",
      "Data columns (total 4 columns):\n",
      " #   Column   Non-Null Count  Dtype \n",
      "---  ------   --------------  ----- \n",
      " 0   label    5572 non-null   object\n",
      " 1   message  5572 non-null   object\n",
      " 2   length   5572 non-null   int64 \n",
      " 3   punct    5572 non-null   int64 \n",
      "dtypes: int64(2), object(2)\n",
      "memory usage: 174.3+ KB\n"
     ]
    }
   ],
   "source": [
    "df.info()"
   ]
  },
  {
   "cell_type": "code",
   "execution_count": 5,
   "id": "01a9546b-4ebb-484b-9ab1-ba7f1f6e20a8",
   "metadata": {},
   "outputs": [
    {
     "data": {
      "text/plain": [
       "label\n",
       "ham     4825\n",
       "spam     747\n",
       "Name: count, dtype: int64"
      ]
     },
     "execution_count": 5,
     "metadata": {},
     "output_type": "execute_result"
    }
   ],
   "source": [
    "df['label'].value_counts()"
   ]
  },
  {
   "cell_type": "markdown",
   "id": "fb6e98fb-4fc4-42bc-84b7-ebb64755b38c",
   "metadata": {},
   "source": [
    "Since there are 4825 ham messages or legitimate messages and only 747 spam messaages, it is not the best approach here to go with the over sampling approach as, if the data is increased the number of samples created for spam will also increase and this will not lead to good predictions, hence using the concept of under sampling manually"
   ]
  },
  {
   "cell_type": "code",
   "execution_count": 6,
   "id": "3020298c-967c-4207-9765-eac0ee834545",
   "metadata": {},
   "outputs": [
    {
     "name": "stdout",
     "output_type": "stream",
     "text": [
      "(4825, 4)\n",
      "(747, 4)\n"
     ]
    }
   ],
   "source": [
    "ham = df[df['label'] == 'ham']\n",
    "spam = df[df['label'] == 'spam']\n",
    "print(ham.shape)\n",
    "print(spam.shape)"
   ]
  },
  {
   "cell_type": "code",
   "execution_count": 7,
   "id": "e0900997-355f-428c-93fa-e5de59d8fdd6",
   "metadata": {},
   "outputs": [
    {
     "name": "stdout",
     "output_type": "stream",
     "text": [
      "(747, 4)\n"
     ]
    }
   ],
   "source": [
    "ham = ham.sample(spam.shape[0])\n",
    "print(ham.shape)"
   ]
  },
  {
   "cell_type": "code",
   "execution_count": 8,
   "id": "6ed29167-59b1-4065-b113-d26923ac1408",
   "metadata": {},
   "outputs": [],
   "source": [
    "df_balanced = pd.concat([ham, spam], axis=0)"
   ]
  },
  {
   "cell_type": "code",
   "execution_count": 9,
   "id": "d4ab92c1-b93d-4185-b931-877f73729f35",
   "metadata": {},
   "outputs": [
    {
     "data": {
      "text/plain": [
       "(1494, 4)"
      ]
     },
     "execution_count": 9,
     "metadata": {},
     "output_type": "execute_result"
    }
   ],
   "source": [
    "df_balanced.shape"
   ]
  },
  {
   "cell_type": "code",
   "execution_count": 10,
   "id": "9e12d229-c278-4d4d-8b10-5f7c7d0b9a3f",
   "metadata": {},
   "outputs": [
    {
     "data": {
      "text/plain": [
       "label\n",
       "ham     747\n",
       "spam    747\n",
       "Name: count, dtype: int64"
      ]
     },
     "execution_count": 10,
     "metadata": {},
     "output_type": "execute_result"
    }
   ],
   "source": [
    "df_balanced['label'].value_counts()"
   ]
  },
  {
   "cell_type": "code",
   "execution_count": 11,
   "id": "6240296c-d4f5-428d-856e-988f10302411",
   "metadata": {},
   "outputs": [
    {
     "data": {
      "image/png": "[encoded data removed]",
      "text/plain": [
       "<Figure size 640x480 with 1 Axes>"
      ]
     },
     "metadata": {},
     "output_type": "display_data"
    }
   ],
   "source": [
    "# Visualising the data to understand how spam and ham mails are distributed:\n",
    "\n",
    "sns.histplot(data=df_balanced, x=df_balanced[df_balanced['label'] == 'ham']['length'], bins=100, color='green')\n",
    "sns.histplot(data=df_balanced, x=df_balanced[df_balanced['label'] == 'spam']['length'], bins=100, color='red')\n",
    "plt.show()"
   ]
  },
  {
   "cell_type": "code",
   "execution_count": 12,
   "id": "141e708f-17a7-4c59-9692-9da59830eca5",
   "metadata": {},
   "outputs": [
    {
     "data": {
      "text/html": [
       "<div>\n",
       "<style scoped>\n",
       "    .dataframe tbody tr th:only-of-type {\n",
       "        vertical-align: middle;\n",
       "    }\n",
       "\n",
       "    .dataframe tbody tr th {\n",
       "        vertical-align: top;\n",
       "    }\n",
       "\n",
       "    .dataframe thead th {\n",
       "        text-align: right;\n",
       "    }\n",
       "</style>\n",
       "<table border=\"1\" class=\"dataframe\">\n",
       "  <thead>\n",
       "    <tr style=\"text-align: right;\">\n",
       "      <th></th>\n",
       "      <th>label</th>\n",
       "      <th>message</th>\n",
       "      <th>length</th>\n",
       "      <th>punct</th>\n",
       "    </tr>\n",
       "  </thead>\n",
       "  <tbody>\n",
       "    <tr>\n",
       "      <th>2434</th>\n",
       "      <td>ham</td>\n",
       "      <td>Indians r poor but India is not a poor country...</td>\n",
       "      <td>629</td>\n",
       "      <td>52</td>\n",
       "    </tr>\n",
       "  </tbody>\n",
       "</table>\n",
       "</div>"
      ],
      "text/plain": [
       "     label                                            message  length  punct\n",
       "2434   ham  Indians r poor but India is not a poor country...     629     52"
      ]
     },
     "execution_count": 12,
     "metadata": {},
     "output_type": "execute_result"
    }
   ],
   "source": [
    "df_balanced[df_balanced['length'] > 450 ]"
   ]
  },
  {
   "cell_type": "markdown",
   "id": "b8781fc2-d5ab-4185-81d7-ad372a20288f",
   "metadata": {},
   "source": [
    "Can be observed that the maximum length of ham messages in this dataset is as high as 629 and that of spam message is less than 200"
   ]
  },
  {
   "cell_type": "code",
   "execution_count": 13,
   "id": "d1002c0a-6d0c-4c67-b251-cdd6c5f59d55",
   "metadata": {},
   "outputs": [
    {
     "data": {
      "image/png": "[encoded data removed]",
      "text/plain": [
       "<Figure size 640x480 with 1 Axes>"
      ]
     },
     "metadata": {},
     "output_type": "display_data"
    }
   ],
   "source": [
    "sns.histplot(data=df_balanced, x=df_balanced[df_balanced['label'] == 'ham']['punct'], bins=100, color='green')\n",
    "sns.histplot(data=df_balanced, x=df_balanced[df_balanced['label'] == 'spam']['punct'], bins=100, color='red')\n",
    "plt.show()"
   ]
  },
  {
   "cell_type": "markdown",
   "id": "eb970817-0921-4a2c-94ee-fefb4dace6fb",
   "metadata": {},
   "source": [
    "Here the number of punctuations used is almost the same for both ham and spam messages"
   ]
  },
  {
   "cell_type": "code",
   "execution_count": 14,
   "id": "56a36534-cf69-496a-b959-f307e04a9d40",
   "metadata": {},
   "outputs": [],
   "source": [
    "# Splitting data into dependent and independent variables\n",
    "\n",
    "x = df_balanced['message']\n",
    "y = df_balanced['label']"
   ]
  },
  {
   "cell_type": "code",
   "execution_count": 15,
   "id": "ff8669c3-12a3-4a38-911b-2e9b89e35d3f",
   "metadata": {},
   "outputs": [],
   "source": [
    "from sklearn.model_selection import train_test_split\n",
    "x_train, x_test, y_train, y_test = train_test_split(x,y,test_size=0.3, random_state=101)"
   ]
  },
  {
   "cell_type": "code",
   "execution_count": 16,
   "id": "ffde5026-e24b-4f9c-87ab-9469547cb7f8",
   "metadata": {},
   "outputs": [
    {
     "data": {
      "text/plain": [
       "3126    1st wk FREE! Gr8 tones str8 2 u each wk. Txt N...\n",
       "1217    You have 1 new voicemail. Please call 08719181...\n",
       "2980    Xmas Offer! Latest Motorola, SonyEricsson & No...\n",
       "1399     No did you check? I got his detailed message now\n",
       "4055    dont make ne plans for nxt wknd coz she wants ...\n",
       "Name: message, dtype: object"
      ]
     },
     "execution_count": 16,
     "metadata": {},
     "output_type": "execute_result"
    }
   ],
   "source": [
    "x_train.head()"
   ]
  },
  {
   "cell_type": "markdown",
   "id": "d1e11093-9af6-47b1-901b-9a84f1c896e4",
   "metadata": {},
   "source": [
    "## Using NLP techniques to convert the text data into numeric to help build a machine learning model\n",
    "## Using TF-IDF technique so that the model also understands the most significant words in the messages"
   ]
  },
  {
   "cell_type": "markdown",
   "id": "dbd3473f",
   "metadata": {},
   "source": [
    "TF-IDF, which stands for Term Frequency-Inverse Document Frequency, is a commonly used technique in Natural Language Processing (NLP) for text analysis and information retrieval. It is used to represent and measure the importance of words or terms within a collection of documents, such as a corpus, by assigning numerical values to them. TF-IDF helps in identifying the significance of a term in a document relative to its importance in the entire corpus. Here's a brief overview of TF-IDF:\n",
    "\n",
    "1. Term Frequency (TF):\n",
    "   - Term Frequency refers to the frequency of a term (word or phrase) within a specific document.\n",
    "   - It is calculated by counting the number of times a term appears in a document and is often normalized to prevent bias towards longer documents.\n",
    "   - The formula for TF is often represented as TF(t, d) = (Number of times term t appears in document d) / (Total number of terms in document d).\n",
    "\n",
    "2. Inverse Document Frequency (IDF):\n",
    "   - Inverse Document Frequency measures the rarity or importance of a term across the entire corpus.\n",
    "   - It is calculated by taking the logarithm of the total number of documents divided by the number of documents containing the term, and then adding 1 to avoid division by zero in case the term is not found in the corpus.\n",
    "   - The formula for IDF is often represented as IDF(t, D) = log((Total number of documents in the corpus D) / (Number of documents containing term t in the corpus D)) + 1.\n",
    "\n",
    "3. TF-IDF Score:\n",
    "   - The TF-IDF score for a term in a document combines the term frequency and the inverse document frequency to quantify the importance of the term within that document and across the entire corpus.\n",
    "   - It is calculated by multiplying the TF and IDF values: TF-IDF(t, d, D) = TF(t, d) * IDF(t, D).\n",
    "\n",
    "4. Application:\n",
    "   - TF-IDF is commonly used in information retrieval, text mining, and document classification tasks.\n",
    "   - It helps in ranking documents based on their relevance to a given search query.\n",
    "   - It can be used to identify key terms or words that are characteristic of a particular document or topic.\n",
    "\n",
    "In practice, TF-IDF is often used to transform a collection of text documents into numerical vectors, where each term becomes a feature, and the TF-IDF score represents the importance of that term in the documents. These vectors can then be used for various NLP tasks, such as document classification, clustering, or information retrieval."
   ]
  },
  {
   "cell_type": "code",
   "execution_count": 17,
   "id": "4d8665a3-7782-4df9-83a3-553d9ec10741",
   "metadata": {},
   "outputs": [],
   "source": [
    "# Importing the required packages\n",
    "\n",
    "from sklearn.feature_extraction.text import TfidfVectorizer\n",
    "from sklearn.ensemble import RandomForestClassifier\n",
    "from sklearn.pipeline import Pipeline\n",
    "from sklearn.metrics import classification_report, confusion_matrix, accuracy_score"
   ]
  },
  {
   "cell_type": "code",
   "execution_count": 18,
   "id": "f6fd1352-a243-4889-a0f1-aadcd2844bd0",
   "metadata": {},
   "outputs": [],
   "source": [
    "pipeline_classify = Pipeline([('TF-IDF', TfidfVectorizer()), ('Classifier_Model', RandomForestClassifier())])"
   ]
  },
  {
   "cell_type": "code",
   "execution_count": 19,
   "id": "09620abb-8f1f-4d43-8db7-22d9f3191055",
   "metadata": {},
   "outputs": [
    {
     "data": {
      "text/html": [
       "<style>#sk-container-id-1 {color: black;}#sk-container-id-1 pre{padding: 0;}#sk-container-id-1 div.sk-toggleable {background-color: white;}#sk-container-id-1 label.sk-toggleable__label {cursor: pointer;display: block;width: 100%;margin-bottom: 0;padding: 0.3em;box-sizing: border-box;text-align: center;}#sk-container-id-1 label.sk-toggleable__label-arrow:before {content: \"▸\";float: left;margin-right: 0.25em;color: #696969;}#sk-container-id-1 label.sk-toggleable__label-arrow:hover:before {color: black;}#sk-container-id-1 div.sk-estimator:hover label.sk-toggleable__label-arrow:before {color: black;}#sk-container-id-1 div.sk-toggleable__content {max-height: 0;max-width: 0;overflow: hidden;text-align: left;background-color: #f0f8ff;}#sk-container-id-1 div.sk-toggleable__content pre {margin: 0.2em;color: black;border-radius: 0.25em;background-color: #f0f8ff;}#sk-container-id-1 input.sk-toggleable__control:checked~div.sk-toggleable__content {max-height: 200px;max-width: 100%;overflow: auto;}#sk-container-id-1 input.sk-toggleable__control:checked~label.sk-toggleable__label-arrow:before {content: \"▾\";}#sk-container-id-1 div.sk-estimator input.sk-toggleable__control:checked~label.sk-toggleable__label {background-color: #d4ebff;}#sk-container-id-1 div.sk-label input.sk-toggleable__control:checked~label.sk-toggleable__label {background-color: #d4ebff;}#sk-container-id-1 input.sk-hidden--visually {border: 0;clip: rect(1px 1px 1px 1px);clip: rect(1px, 1px, 1px, 1px);height: 1px;margin: -1px;overflow: hidden;padding: 0;position: absolute;width: 1px;}#sk-container-id-1 div.sk-estimator {font-family: monospace;background-color: #f0f8ff;border: 1px dotted black;border-radius: 0.25em;box-sizing: border-box;margin-bottom: 0.5em;}#sk-container-id-1 div.sk-estimator:hover {background-color: #d4ebff;}#sk-container-id-1 div.sk-parallel-item::after {content: \"\";width: 100%;border-bottom: 1px solid gray;flex-grow: 1;}#sk-container-id-1 div.sk-label:hover label.sk-toggleable__label {background-color: #d4ebff;}#sk-container-id-1 div.sk-serial::before {content: \"\";position: absolute;border-left: 1px solid gray;box-sizing: border-box;top: 0;bottom: 0;left: 50%;z-index: 0;}#sk-container-id-1 div.sk-serial {display: flex;flex-direction: column;align-items: center;background-color: white;padding-right: 0.2em;padding-left: 0.2em;position: relative;}#sk-container-id-1 div.sk-item {position: relative;z-index: 1;}#sk-container-id-1 div.sk-parallel {display: flex;align-items: stretch;justify-content: center;background-color: white;position: relative;}#sk-container-id-1 div.sk-item::before, #sk-container-id-1 div.sk-parallel-item::before {content: \"\";position: absolute;border-left: 1px solid gray;box-sizing: border-box;top: 0;bottom: 0;left: 50%;z-index: -1;}#sk-container-id-1 div.sk-parallel-item {display: flex;flex-direction: column;z-index: 1;position: relative;background-color: white;}#sk-container-id-1 div.sk-parallel-item:first-child::after {align-self: flex-end;width: 50%;}#sk-container-id-1 div.sk-parallel-item:last-child::after {align-self: flex-start;width: 50%;}#sk-container-id-1 div.sk-parallel-item:only-child::after {width: 0;}#sk-container-id-1 div.sk-dashed-wrapped {border: 1px dashed gray;margin: 0 0.4em 0.5em 0.4em;box-sizing: border-box;padding-bottom: 0.4em;background-color: white;}#sk-container-id-1 div.sk-label label {font-family: monospace;font-weight: bold;display: inline-block;line-height: 1.2em;}#sk-container-id-1 div.sk-label-container {text-align: center;}#sk-container-id-1 div.sk-container {/* jupyter's `normalize.less` sets `[hidden] { display: none; }` but bootstrap.min.css set `[hidden] { display: none !important; }` so we also need the `!important` here to be able to override the default hidden behavior on the sphinx rendered scikit-learn.org. See: https://github.com/scikit-learn/scikit-learn/issues/21755 */display: inline-block !important;position: relative;}#sk-container-id-1 div.sk-text-repr-fallback {display: none;}</style><div id=\"sk-container-id-1\" class=\"sk-top-container\"><div class=\"sk-text-repr-fallback\"><pre>Pipeline(steps=[(&#x27;TF-IDF&#x27;, TfidfVectorizer()),\n",
       "                (&#x27;Classifier_Model&#x27;, RandomForestClassifier())])</pre><b>In a Jupyter environment, please rerun this cell to show the HTML representation or trust the notebook. <br />On GitHub, the HTML representation is unable to render, please try loading this page with nbviewer.org.</b></div><div class=\"sk-container\" hidden><div class=\"sk-item sk-dashed-wrapped\"><div class=\"sk-label-container\"><div class=\"sk-label sk-toggleable\"><input class=\"sk-toggleable__control sk-hidden--visually\" id=\"sk-estimator-id-1\" type=\"checkbox\" ><label for=\"sk-estimator-id-1\" class=\"sk-toggleable__label sk-toggleable__label-arrow\">Pipeline</label><div class=\"sk-toggleable__content\"><pre>Pipeline(steps=[(&#x27;TF-IDF&#x27;, TfidfVectorizer()),\n",
       "                (&#x27;Classifier_Model&#x27;, RandomForestClassifier())])</pre></div></div></div><div class=\"sk-serial\"><div class=\"sk-item\"><div class=\"sk-estimator sk-toggleable\"><input class=\"sk-toggleable__control sk-hidden--visually\" id=\"sk-estimator-id-2\" type=\"checkbox\" ><label for=\"sk-estimator-id-2\" class=\"sk-toggleable__label sk-toggleable__label-arrow\">TfidfVectorizer</label><div class=\"sk-toggleable__content\"><pre>TfidfVectorizer()</pre></div></div></div><div class=\"sk-item\"><div class=\"sk-estimator sk-toggleable\"><input class=\"sk-toggleable__control sk-hidden--visually\" id=\"sk-estimator-id-3\" type=\"checkbox\" ><label for=\"sk-estimator-id-3\" class=\"sk-toggleable__label sk-toggleable__label-arrow\">RandomForestClassifier</label><div class=\"sk-toggleable__content\"><pre>RandomForestClassifier()</pre></div></div></div></div></div></div></div>"
      ],
      "text/plain": [
       "Pipeline(steps=[('TF-IDF', TfidfVectorizer()),\n",
       "                ('Classifier_Model', RandomForestClassifier())])"
      ]
     },
     "execution_count": 19,
     "metadata": {},
     "output_type": "execute_result"
    }
   ],
   "source": [
    "pipeline_classify.fit(x_train, y_train)"
   ]
  },
  {
   "cell_type": "code",
   "execution_count": 20,
   "id": "12d0d526-c8ef-4659-9d15-b2ecf9fd7f7b",
   "metadata": {},
   "outputs": [],
   "source": [
    "# Model Prediction\n",
    "\n",
    "y_pred_train = pipeline_classify.predict(x_train)\n",
    "y_pred_test = pipeline_classify.predict(x_test)"
   ]
  },
  {
   "cell_type": "code",
   "execution_count": 21,
   "id": "cd5194a5-8853-4a24-a909-778cf7fa6fbe",
   "metadata": {},
   "outputs": [
    {
     "name": "stdout",
     "output_type": "stream",
     "text": [
      "The classification report and confusion matrix for the Random forest classifier model is: \n",
      "\n",
      "\n",
      "\n",
      "\n",
      "The classification report and confusion matrix for Train data:\n",
      "\n",
      "\n",
      "              precision    recall  f1-score   support\n",
      "\n",
      "         ham       1.00      1.00      1.00       521\n",
      "        spam       1.00      1.00      1.00       524\n",
      "\n",
      "    accuracy                           1.00      1045\n",
      "   macro avg       1.00      1.00      1.00      1045\n",
      "weighted avg       1.00      1.00      1.00      1045\n",
      "\n",
      "----------------------------------------------------------------------------------------------------\n",
      "[[521   0]\n",
      " [  0 524]]\n",
      "----------------------------------------------------------------------------------------------------\n",
      "The accuracy score for train data: 1.0\n",
      "The classification report and confusion matrix for Test data:\n",
      "\n",
      "\n",
      "              precision    recall  f1-score   support\n",
      "\n",
      "         ham       0.90      1.00      0.95       226\n",
      "        spam       1.00      0.89      0.94       223\n",
      "\n",
      "    accuracy                           0.94       449\n",
      "   macro avg       0.95      0.94      0.94       449\n",
      "weighted avg       0.95      0.94      0.94       449\n",
      "\n",
      "----------------------------------------------------------------------------------------------------\n",
      "[[226   0]\n",
      " [ 25 198]]\n",
      "----------------------------------------------------------------------------------------------------\n",
      "The accuracy score for test data: 0.9443207126948775\n"
     ]
    }
   ],
   "source": [
    "# Model Performance:\n",
    "\n",
    "print('The classification report and confusion matrix for the Random forest classifier model is: ')\n",
    "print('\\n')\n",
    "print('\\n')\n",
    "print('The classification report and confusion matrix for Train data:')\n",
    "print('\\n')\n",
    "print(classification_report(y_train, y_pred_train))\n",
    "print('--'*50)\n",
    "print(confusion_matrix(y_train, y_pred_train))\n",
    "print('--'*50)\n",
    "print('The accuracy score for train data:', accuracy_score(y_train, y_pred_train))\n",
    "\n",
    "print('The classification report and confusion matrix for Test data:')\n",
    "print('\\n')\n",
    "print(classification_report(y_test, y_pred_test))\n",
    "print('--'*50)\n",
    "print(confusion_matrix(y_test, y_pred_test))\n",
    "print('--'*50)\n",
    "print('The accuracy score for test data:', accuracy_score(y_test, y_pred_test))"
   ]
  },
  {
   "cell_type": "code",
   "execution_count": 22,
   "id": "aac6632e-6613-45de-9e5c-7e6a26d5b377",
   "metadata": {},
   "outputs": [],
   "source": [
    "# Building XGBoost algorithm for the same balanced dataset\n",
    "\n",
    "from xgboost import XGBClassifier"
   ]
  },
  {
   "cell_type": "markdown",
   "id": "e21d32db-d501-4d53-a1ff-7d4d1ecd6a0d",
   "metadata": {},
   "source": [
    "But XG Boost algorithm will not accept the data labels as spam and ham, hence need to be changed to 1 and 0 respectively"
   ]
  },
  {
   "cell_type": "code",
   "execution_count": 23,
   "id": "936502ea-9f2b-428b-80b3-b4c0ee8ac305",
   "metadata": {},
   "outputs": [],
   "source": [
    "df_balanced['label'] = np.where(df_balanced['label'] == 'ham',0,1)"
   ]
  },
  {
   "cell_type": "code",
   "execution_count": 24,
   "id": "49271eed-2152-40cb-b622-ffc697afdd1f",
   "metadata": {},
   "outputs": [
    {
     "data": {
      "text/plain": [
       "label\n",
       "0    747\n",
       "1    747\n",
       "Name: count, dtype: int64"
      ]
     },
     "execution_count": 24,
     "metadata": {},
     "output_type": "execute_result"
    }
   ],
   "source": [
    "df_balanced['label'].value_counts()"
   ]
  },
  {
   "cell_type": "code",
   "execution_count": 25,
   "id": "e57b5a77-679a-47a2-9079-80a1aa2832b5",
   "metadata": {},
   "outputs": [],
   "source": [
    "x_train_xgb, x_test_xgb , y_train_xgb, y_test_xgb = train_test_split(df_balanced['message'], df_balanced['label'], test_size=0.3, random_state=101)"
   ]
  },
  {
   "cell_type": "code",
   "execution_count": 26,
   "id": "c6658499-f967-4a14-b898-1e843e583afe",
   "metadata": {},
   "outputs": [],
   "source": [
    "pipeline_classify_xgb = Pipeline([('TF-IDF', TfidfVectorizer()), ('Classifier_Model', XGBClassifier())])\n",
    "pipeline_classify_xgb.fit(x_train_xgb, y_train_xgb)\n",
    "pred_train_xgb = pipeline_classify_xgb.predict(x_train_xgb)\n",
    "pred_test_xgb = pipeline_classify_xgb.predict(x_test_xgb)"
   ]
  },
  {
   "cell_type": "code",
   "execution_count": 27,
   "id": "9f08e17b-a1ef-4b42-b71a-04de90e1bae7",
   "metadata": {},
   "outputs": [
    {
     "name": "stdout",
     "output_type": "stream",
     "text": [
      "The classification report and confusion matrix for the XG Boost Classifier model is: \n",
      "\n",
      "\n",
      "\n",
      "\n",
      "The classification report and confusion matrix for Train data:\n",
      "\n",
      "\n",
      "              precision    recall  f1-score   support\n",
      "\n",
      "           0       0.99      1.00      1.00       521\n",
      "           1       1.00      0.99      1.00       524\n",
      "\n",
      "    accuracy                           1.00      1045\n",
      "   macro avg       1.00      1.00      1.00      1045\n",
      "weighted avg       1.00      1.00      1.00      1045\n",
      "\n",
      "----------------------------------------------------------------------------------------------------\n",
      "[[521   0]\n",
      " [  4 520]]\n",
      "----------------------------------------------------------------------------------------------------\n",
      "The accuracy score for train data: 0.9961722488038277\n",
      "The classification report and confusion matrix for Test data:\n",
      "\n",
      "\n",
      "              precision    recall  f1-score   support\n",
      "\n",
      "           0       0.88      0.96      0.92       226\n",
      "           1       0.96      0.87      0.91       223\n",
      "\n",
      "    accuracy                           0.91       449\n",
      "   macro avg       0.92      0.91      0.91       449\n",
      "weighted avg       0.92      0.91      0.91       449\n",
      "\n",
      "----------------------------------------------------------------------------------------------------\n",
      "[[217   9]\n",
      " [ 30 193]]\n",
      "----------------------------------------------------------------------------------------------------\n",
      "The accuracy score for Test data: 0.9131403118040089\n"
     ]
    }
   ],
   "source": [
    "# Model Performance:\n",
    "\n",
    "print('The classification report and confusion matrix for the XG Boost Classifier model is: ')\n",
    "print('\\n')\n",
    "print('\\n')\n",
    "print('The classification report and confusion matrix for Train data:')\n",
    "print('\\n')\n",
    "print(classification_report(y_train_xgb, pred_train_xgb))\n",
    "print('--'*50)\n",
    "print(confusion_matrix(y_train_xgb, pred_train_xgb))\n",
    "print('--'*50)\n",
    "print('The accuracy score for train data:', accuracy_score(y_train_xgb, pred_train_xgb))\n",
    "\n",
    "print('The classification report and confusion matrix for Test data:')\n",
    "print('\\n')\n",
    "print(classification_report(y_test_xgb, pred_test_xgb))\n",
    "print('--'*50)\n",
    "print(confusion_matrix(y_test_xgb, pred_test_xgb))\n",
    "print('--'*50)\n",
    "print('The accuracy score for Test data:', accuracy_score(y_test_xgb, pred_test_xgb))"
   ]
  },
  {
   "cell_type": "markdown",
   "id": "3f370fa8-1d8d-4671-8e4f-2d7be13a25ff",
   "metadata": {},
   "source": [
    "Now it is observed that Random Forest model is performing better compared to the XGB model, and using undersampling we are facing information loss as thousands of ham messages are being ommitted, to avoid this the model is to be trained with the entire data with the imbalance class labels"
   ]
  },
  {
   "cell_type": "code",
   "execution_count": 28,
   "id": "25c30b60-40dc-4f66-8451-dda2661ad7dc",
   "metadata": {},
   "outputs": [],
   "source": [
    "x_train, x_test, y_train, y_test = train_test_split(df['message'], df['label'], test_size=0.3, random_state=42)"
   ]
  },
  {
   "cell_type": "code",
   "execution_count": 29,
   "id": "5bb559a7-a1c1-4bea-94ff-db251e03bd1b",
   "metadata": {},
   "outputs": [],
   "source": [
    "pipeline_final = Pipeline([('TF_IDF', TfidfVectorizer()), ('Classifier_Model', RandomForestClassifier())])\n",
    "pipeline_final.fit(x_train, y_train)\n",
    "y_pred_train_final = pipeline_final.predict(x_train)\n",
    "y_pred_test_final = pipeline_final.predict(x_test)"
   ]
  },
  {
   "cell_type": "code",
   "execution_count": 30,
   "id": "62a4a7fc-042f-408e-bf77-6e6c3392a5c4",
   "metadata": {},
   "outputs": [
    {
     "name": "stdout",
     "output_type": "stream",
     "text": [
      "The classification report and confusion matrix using the Random forest classifier model for the full dataset: \n",
      "\n",
      "\n",
      "\n",
      "\n",
      "The classification report and confusion matrix for Train data:\n",
      "\n",
      "\n",
      "              precision    recall  f1-score   support\n",
      "\n",
      "         ham       1.00      1.00      1.00      3377\n",
      "        spam       1.00      1.00      1.00       523\n",
      "\n",
      "    accuracy                           1.00      3900\n",
      "   macro avg       1.00      1.00      1.00      3900\n",
      "weighted avg       1.00      1.00      1.00      3900\n",
      "\n",
      "----------------------------------------------------------------------------------------------------\n",
      "[[3377    0]\n",
      " [   0  523]]\n",
      "----------------------------------------------------------------------------------------------------\n",
      "The accuracy score for train data: 1.0\n",
      "The classification report and confusion matrix for Train data:\n",
      "\n",
      "\n",
      "              precision    recall  f1-score   support\n",
      "\n",
      "         ham       0.98      1.00      0.99      1448\n",
      "        spam       1.00      0.86      0.92       224\n",
      "\n",
      "    accuracy                           0.98      1672\n",
      "   macro avg       0.99      0.93      0.96      1672\n",
      "weighted avg       0.98      0.98      0.98      1672\n",
      "\n",
      "----------------------------------------------------------------------------------------------------\n",
      "[[1448    0]\n",
      " [  32  192]]\n",
      "----------------------------------------------------------------------------------------------------\n",
      "The accuracy score for test data: 0.9808612440191388\n"
     ]
    }
   ],
   "source": [
    "# Model Performance with the final model:\n",
    "\n",
    "print('The classification report and confusion matrix using the Random forest classifier model for the full dataset: ')\n",
    "print('\\n')\n",
    "print('\\n')\n",
    "print('The classification report and confusion matrix for Train data:')\n",
    "print('\\n')\n",
    "print(classification_report(y_train, y_pred_train_final))\n",
    "print('--'*50)\n",
    "print(confusion_matrix(y_train, y_pred_train_final))\n",
    "print('--'*50)\n",
    "print('The accuracy score for train data:', accuracy_score(y_train, y_pred_train_final))\n",
    "\n",
    "print('The classification report and confusion matrix for Train data:')\n",
    "print('\\n')\n",
    "print(classification_report(y_test, y_pred_test_final))\n",
    "print('--'*50)\n",
    "print(confusion_matrix(y_test, y_pred_test_final))\n",
    "print('--'*50)\n",
    "print('The accuracy score for test data:', accuracy_score(y_test, y_pred_test_final))"
   ]
  },
  {
   "cell_type": "markdown",
   "id": "c2525983-63db-4642-be2d-4fd1c93d7458",
   "metadata": {},
   "source": [
    "The model is performing excellently well, here the Precision is to be increased as we would not want to classify a Ham message into a spam message folder, i.e reducing False Positives."
   ]
  },
  {
   "cell_type": "code",
   "execution_count": 31,
   "id": "06c8c71f",
   "metadata": {},
   "outputs": [],
   "source": [
    "def spam_classify(message):\n",
    "    result = pipeline_final.predict([message])\n",
    "    if result == 'spam':\n",
    "        print('This is a spam!')\n",
    "    else:\n",
    "        print('This is a legitimate message')"
   ]
  },
  {
   "cell_type": "markdown",
   "id": "a28ab134",
   "metadata": {},
   "source": [
    "Message 1:\n",
    "\n",
    "Free entry into a wkly comp to win World Cup 2023 final tkts. Text CWC23 to 87121 to receive entry question(std txt rate)T&C's apply"
   ]
  },
  {
   "cell_type": "code",
   "execution_count": 32,
   "id": "cead7b8e",
   "metadata": {},
   "outputs": [
    {
     "name": "stdout",
     "output_type": "stream",
     "text": [
      "This is a spam!\n"
     ]
    }
   ],
   "source": [
    "spam_classify(\"Free entry into a wkly comp to win World Cup 2023 final tkts. Text CWC23 to 87121 to receive entry question(std txt rate)T&C's apply\")"
   ]
  },
  {
   "cell_type": "markdown",
   "id": "cea0d19e",
   "metadata": {},
   "source": [
    "Message 2:\n",
    "\n",
    "Nah I don't think he goes so far just for the sake of it, he lives around here though."
   ]
  },
  {
   "cell_type": "code",
   "execution_count": 34,
   "id": "891567a2",
   "metadata": {},
   "outputs": [
    {
     "name": "stdout",
     "output_type": "stream",
     "text": [
      "This is a legitimate message\n"
     ]
    }
   ],
   "source": [
    "spam_classify(\"Nah I don't think he goes so far just for the sake of it, he lives around here though.\")"
   ]
  }
 ],
 "metadata": {
  "kernelspec": {
   "display_name": "Python 3 (ipykernel)",
   "language": "python",
   "name": "python3"
  },
  "language_info": {
   "codemirror_mode": {
    "name": "ipython",
    "version": 3
   },
   "file_extension": ".py",
   "mimetype": "text/x-python",
   "name": "python",
   "nbconvert_exporter": "python",
   "pygments_lexer": "ipython3",
   "version": "3.11.5"
  }
 },
 "nbformat": 4,
 "nbformat_minor": 5
}
